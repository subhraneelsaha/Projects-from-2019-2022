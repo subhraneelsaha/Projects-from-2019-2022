{
 "cells": [
  {
   "cell_type": "markdown",
   "metadata": {
    "id": "0mIlJjVbG6RV"
   },
   "source": [
    "![1622658914097.jpg](data:image/jpeg;base64,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)"
   ]
  },
  {
   "cell_type": "markdown",
   "metadata": {},
   "source": [
    "# Task 3 - Develop A Neural Network That Can Read Handwriting"
   ]
  },
  {
   "cell_type": "markdown",
   "metadata": {},
   "source": [
    "## Name - Subhraneel Saha"
   ]
  },
  {
   "cell_type": "markdown",
   "metadata": {},
   "source": [
    "## Loading - \"MNIST Data Set\""
   ]
  },
  {
   "cell_type": "markdown",
   "metadata": {},
   "source": [
    "## Containing Training samples = 60,000 , Testing Samples = 10,000"
   ]
  },
  {
   "cell_type": "markdown",
   "metadata": {},
   "source": [
    "#### TensorFlow already contain MNIST data set which can be loaded using Keras"
   ]
  },
  {
   "cell_type": "code",
   "execution_count": 1,
   "metadata": {},
   "outputs": [],
   "source": [
    "import tensorflow as tf # pip install tensorflow"
   ]
  },
  {
   "cell_type": "code",
   "execution_count": 2,
   "metadata": {},
   "outputs": [],
   "source": [
    "mnist = tf.keras.datasets.mnist ## this is basically handwritten characters based on 28x28 sized images of 0 to 9"
   ]
  },
  {
   "cell_type": "markdown",
   "metadata": {},
   "source": [
    "#### Dividing into train and Test datasets"
   ]
  },
  {
   "cell_type": "code",
   "execution_count": 3,
   "metadata": {},
   "outputs": [],
   "source": [
    "(x_train, y_train),(x_test, y_test) = mnist.load_data()"
   ]
  },
  {
   "cell_type": "code",
   "execution_count": 4,
   "metadata": {},
   "outputs": [
    {
     "data": {
      "text/plain": [
       "(60000, 28, 28)"
      ]
     },
     "execution_count": 4,
     "metadata": {},
     "output_type": "execute_result"
    }
   ],
   "source": [
    "#unpacking the dataset into train and test datasets\n",
    "x_train.shape"
   ]
  },
  {
   "cell_type": "code",
   "execution_count": 5,
   "metadata": {},
   "outputs": [],
   "source": [
    "import matplotlib.pyplot as plt"
   ]
  },
  {
   "cell_type": "code",
   "execution_count": 6,
   "metadata": {},
   "outputs": [
    {
     "data": {
      "image/png": "[encoded data removed]",
      "text/plain": [
       "<Figure size 432x288 with 1 Axes>"
      ]
     },
     "metadata": {
      "needs_background": "light"
     },
     "output_type": "display_data"
    },
    {
     "data": {
      "text/plain": [
       "<matplotlib.image.AxesImage at 0x24d42a79fa0>"
      ]
     },
     "execution_count": 6,
     "metadata": {},
     "output_type": "execute_result"
    },
    {
     "data": {
      "image/png": "[encoded data removed]",
      "text/plain": [
       "<Figure size 432x288 with 1 Axes>"
      ]
     },
     "metadata": {
      "needs_background": "light"
     },
     "output_type": "display_data"
    }
   ],
   "source": [
    "##checking the graph, how the data looks like\n",
    "import matplotlib.pyplot as plt\n",
    "plt.imshow(x_train[0])\n",
    "## in order to execute the graph it is unknown whether it is color or binary\n",
    "## image so in order to plot it the configuration has been changed.\n",
    "plt.show()\n",
    "plt.imshow(x_train[0], cmap = plt.cm.binary)"
   ]
  },
  {
   "cell_type": "markdown",
   "metadata": {},
   "source": [
    "#### Checking the values of each pixel"
   ]
  },
  {
   "cell_type": "markdown",
   "metadata": {},
   "source": [
    "**Before Normalization**"
   ]
  },
  {
   "cell_type": "code",
   "execution_count": 7,
   "metadata": {},
   "outputs": [
    {
     "name": "stdout",
     "output_type": "stream",
     "text": [
      "[[  0   0   0   0   0   0   0   0   0   0   0   0   0   0   0   0   0   0\n",
      "    0   0   0   0   0   0   0   0   0   0]\n",
      " [  0   0   0   0   0   0   0   0   0   0   0   0   0   0   0   0   0   0\n",
      "    0   0   0   0   0   0   0   0   0   0]\n",
      " [  0   0   0   0   0   0   0   0   0   0   0   0   0   0   0   0   0   0\n",
      "    0   0   0   0   0   0   0   0   0   0]\n",
      " [  0   0   0   0   0   0   0   0   0   0   0   0   0   0   0   0   0   0\n",
      "    0   0   0   0   0   0   0   0   0   0]\n",
      " [  0   0   0   0   0   0   0   0   0   0   0   0   0   0   0   0   0   0\n",
      "    0   0   0   0   0   0   0   0   0   0]\n",
      " [  0   0   0   0   0   0   0   0   0   0   0   0   3  18  18  18 126 136\n",
      "  175  26 166 255 247 127   0   0   0   0]\n",
      " [  0   0   0   0   0   0   0   0  30  36  94 154 170 253 253 253 253 253\n",
      "  225 172 253 242 195  64   0   0   0   0]\n",
      " [  0   0   0   0   0   0   0  49 238 253 253 253 253 253 253 253 253 251\n",
      "   93  82  82  56  39   0   0   0   0   0]\n",
      " [  0   0   0   0   0   0   0  18 219 253 253 253 253 253 198 182 247 241\n",
      "    0   0   0   0   0   0   0   0   0   0]\n",
      " [  0   0   0   0   0   0   0   0  80 156 107 253 253 205  11   0  43 154\n",
      "    0   0   0   0   0   0   0   0   0   0]\n",
      " [  0   0   0   0   0   0   0   0   0  14   1 154 253  90   0   0   0   0\n",
      "    0   0   0   0   0   0   0   0   0   0]\n",
      " [  0   0   0   0   0   0   0   0   0   0   0 139 253 190   2   0   0   0\n",
      "    0   0   0   0   0   0   0   0   0   0]\n",
      " [  0   0   0   0   0   0   0   0   0   0   0  11 190 253  70   0   0   0\n",
      "    0   0   0   0   0   0   0   0   0   0]\n",
      " [  0   0   0   0   0   0   0   0   0   0   0   0  35 241 225 160 108   1\n",
      "    0   0   0   0   0   0   0   0   0   0]\n",
      " [  0   0   0   0   0   0   0   0   0   0   0   0   0  81 240 253 253 119\n",
      "   25   0   0   0   0   0   0   0   0   0]\n",
      " [  0   0   0   0   0   0   0   0   0   0   0   0   0   0  45 186 253 253\n",
      "  150  27   0   0   0   0   0   0   0   0]\n",
      " [  0   0   0   0   0   0   0   0   0   0   0   0   0   0   0  16  93 252\n",
      "  253 187   0   0   0   0   0   0   0   0]\n",
      " [  0   0   0   0   0   0   0   0   0   0   0   0   0   0   0   0   0 249\n",
      "  253 249  64   0   0   0   0   0   0   0]\n",
      " [  0   0   0   0   0   0   0   0   0   0   0   0   0   0  46 130 183 253\n",
      "  253 207   2   0   0   0   0   0   0   0]\n",
      " [  0   0   0   0   0   0   0   0   0   0   0   0  39 148 229 253 253 253\n",
      "  250 182   0   0   0   0   0   0   0   0]\n",
      " [  0   0   0   0   0   0   0   0   0   0  24 114 221 253 253 253 253 201\n",
      "   78   0   0   0   0   0   0   0   0   0]\n",
      " [  0   0   0   0   0   0   0   0  23  66 213 253 253 253 253 198  81   2\n",
      "    0   0   0   0   0   0   0   0   0   0]\n",
      " [  0   0   0   0   0   0  18 171 219 253 253 253 253 195  80   9   0   0\n",
      "    0   0   0   0   0   0   0   0   0   0]\n",
      " [  0   0   0   0  55 172 226 253 253 253 253 244 133  11   0   0   0   0\n",
      "    0   0   0   0   0   0   0   0   0   0]\n",
      " [  0   0   0   0 136 253 253 253 212 135 132  16   0   0   0   0   0   0\n",
      "    0   0   0   0   0   0   0   0   0   0]\n",
      " [  0   0   0   0   0   0   0   0   0   0   0   0   0   0   0   0   0   0\n",
      "    0   0   0   0   0   0   0   0   0   0]\n",
      " [  0   0   0   0   0   0   0   0   0   0   0   0   0   0   0   0   0   0\n",
      "    0   0   0   0   0   0   0   0   0   0]\n",
      " [  0   0   0   0   0   0   0   0   0   0   0   0   0   0   0   0   0   0\n",
      "    0   0   0   0   0   0   0   0   0   0]]\n"
     ]
    }
   ],
   "source": [
    "print (x_train[0]) ### before normalization"
   ]
  },
  {
   "cell_type": "markdown",
   "metadata": {},
   "source": [
    "#### As images are in Gray level (1 channel ==> 0 to 255), not Colored(RGB)"
   ]
  },
  {
   "cell_type": "markdown",
   "metadata": {},
   "source": [
    "#### Normalising the data | Pre-Processing Step"
   ]
  },
  {
   "cell_type": "code",
   "execution_count": 8,
   "metadata": {},
   "outputs": [
    {
     "data": {
      "text/plain": [
       "<matplotlib.image.AxesImage at 0x24d42aea0a0>"
      ]
     },
     "execution_count": 8,
     "metadata": {},
     "output_type": "execute_result"
    },
    {
     "data": {
      "image/png": "[encoded data removed]",
      "text/plain": [
       "<Figure size 432x288 with 1 Axes>"
      ]
     },
     "metadata": {
      "needs_background": "light"
     },
     "output_type": "display_data"
    }
   ],
   "source": [
    "## it might have been noticed that, its gray image and all values varies from 0 to 255\n",
    "## in orser to normalize it\n",
    "x_train = tf.keras.utils.normalize (x_train, axis = 1)\n",
    "x_test = tf.keras.utils.normalize(x_test, axis=1)\n",
    "plt.imshow(x_train[0], cmap = plt.cm.binary)"
   ]
  },
  {
   "cell_type": "code",
   "execution_count": 9,
   "metadata": {
    "scrolled": false
   },
   "outputs": [
    {
     "name": "stdout",
     "output_type": "stream",
     "text": [
      "[[0.         0.         0.         0.         0.         0.\n",
      "  0.         0.         0.         0.         0.         0.\n",
      "  0.         0.         0.         0.         0.         0.\n",
      "  0.         0.         0.         0.         0.         0.\n",
      "  0.         0.         0.         0.        ]\n",
      " [0.         0.         0.         0.         0.         0.\n",
      "  0.         0.         0.         0.         0.         0.\n",
      "  0.         0.         0.         0.         0.         0.\n",
      "  0.         0.         0.         0.         0.         0.\n",
      "  0.         0.         0.         0.        ]\n",
      " [0.         0.         0.         0.         0.         0.\n",
      "  0.         0.         0.         0.         0.         0.\n",
      "  0.         0.         0.         0.         0.         0.\n",
      "  0.         0.         0.         0.         0.         0.\n",
      "  0.         0.         0.         0.        ]\n",
      " [0.         0.         0.         0.         0.         0.\n",
      "  0.         0.         0.         0.         0.         0.\n",
      "  0.         0.         0.         0.         0.         0.\n",
      "  0.         0.         0.         0.         0.         0.\n",
      "  0.         0.         0.         0.        ]\n",
      " [0.         0.         0.         0.         0.         0.\n",
      "  0.         0.         0.         0.         0.         0.\n",
      "  0.         0.         0.         0.         0.         0.\n",
      "  0.         0.         0.         0.         0.         0.\n",
      "  0.         0.         0.         0.        ]\n",
      " [0.         0.         0.         0.         0.         0.\n",
      "  0.         0.         0.         0.         0.         0.\n",
      "  0.00393124 0.02332955 0.02620568 0.02625207 0.17420356 0.17566281\n",
      "  0.28629534 0.05664824 0.51877786 0.71632322 0.77892406 0.89301644\n",
      "  0.         0.         0.         0.        ]\n",
      " [0.         0.         0.         0.         0.         0.\n",
      "  0.         0.         0.05780486 0.06524513 0.16128198 0.22713296\n",
      "  0.22277047 0.32790981 0.36833534 0.3689874  0.34978968 0.32678448\n",
      "  0.368094   0.3747499  0.79066747 0.67980478 0.61494005 0.45002403\n",
      "  0.         0.         0.         0.        ]\n",
      " [0.         0.         0.         0.         0.         0.\n",
      "  0.         0.12250613 0.45858525 0.45852825 0.43408872 0.37314701\n",
      "  0.33153488 0.32790981 0.36833534 0.3689874  0.34978968 0.32420121\n",
      "  0.15214552 0.17865984 0.25626376 0.1573102  0.12298801 0.\n",
      "  0.         0.         0.         0.        ]\n",
      " [0.         0.         0.         0.         0.         0.\n",
      "  0.         0.04500225 0.4219755  0.45852825 0.43408872 0.37314701\n",
      "  0.33153488 0.32790981 0.28826244 0.26543758 0.34149427 0.31128482\n",
      "  0.         0.         0.         0.         0.         0.\n",
      "  0.         0.         0.         0.        ]\n",
      " [0.         0.         0.         0.         0.         0.\n",
      "  0.         0.         0.1541463  0.28272888 0.18358693 0.37314701\n",
      "  0.33153488 0.26569767 0.01601458 0.         0.05945042 0.19891229\n",
      "  0.         0.         0.         0.         0.         0.\n",
      "  0.         0.         0.         0.        ]\n",
      " [0.         0.         0.         0.         0.         0.\n",
      "  0.         0.         0.         0.0253731  0.00171577 0.22713296\n",
      "  0.33153488 0.11664776 0.         0.         0.         0.\n",
      "  0.         0.         0.         0.         0.         0.\n",
      "  0.         0.         0.         0.        ]\n",
      " [0.         0.         0.         0.         0.         0.\n",
      "  0.         0.         0.         0.         0.         0.20500962\n",
      "  0.33153488 0.24625638 0.00291174 0.         0.         0.\n",
      "  0.         0.         0.         0.         0.         0.\n",
      "  0.         0.         0.         0.        ]\n",
      " [0.         0.         0.         0.         0.         0.\n",
      "  0.         0.         0.         0.         0.         0.01622378\n",
      "  0.24897876 0.32790981 0.10191096 0.         0.         0.\n",
      "  0.         0.         0.         0.         0.         0.\n",
      "  0.         0.         0.         0.        ]\n",
      " [0.         0.         0.         0.         0.         0.\n",
      "  0.         0.         0.         0.         0.         0.\n",
      "  0.04586451 0.31235677 0.32757096 0.23335172 0.14931733 0.00129164\n",
      "  0.         0.         0.         0.         0.         0.\n",
      "  0.         0.         0.         0.        ]\n",
      " [0.         0.         0.         0.         0.         0.\n",
      "  0.         0.         0.         0.         0.         0.\n",
      "  0.         0.10498298 0.34940902 0.3689874  0.34978968 0.15370495\n",
      "  0.04089933 0.         0.         0.         0.         0.\n",
      "  0.         0.         0.         0.        ]\n",
      " [0.         0.         0.         0.         0.         0.\n",
      "  0.         0.         0.         0.         0.         0.\n",
      "  0.         0.         0.06551419 0.27127137 0.34978968 0.32678448\n",
      "  0.245396   0.05882702 0.         0.         0.         0.\n",
      "  0.         0.         0.         0.        ]\n",
      " [0.         0.         0.         0.         0.         0.\n",
      "  0.         0.         0.         0.         0.         0.\n",
      "  0.         0.         0.         0.02333517 0.12857881 0.32549285\n",
      "  0.41390126 0.40743158 0.         0.         0.         0.\n",
      "  0.         0.         0.         0.        ]\n",
      " [0.         0.         0.         0.         0.         0.\n",
      "  0.         0.         0.         0.         0.         0.\n",
      "  0.         0.         0.         0.         0.         0.32161793\n",
      "  0.41390126 0.54251585 0.20001074 0.         0.         0.\n",
      "  0.         0.         0.         0.        ]\n",
      " [0.         0.         0.         0.         0.         0.\n",
      "  0.         0.         0.         0.         0.         0.\n",
      "  0.         0.         0.06697006 0.18959827 0.25300993 0.32678448\n",
      "  0.41390126 0.45100715 0.00625034 0.         0.         0.\n",
      "  0.         0.         0.         0.        ]\n",
      " [0.         0.         0.         0.         0.         0.\n",
      "  0.         0.         0.         0.         0.         0.\n",
      "  0.05110617 0.19182076 0.33339444 0.3689874  0.34978968 0.32678448\n",
      "  0.40899334 0.39653769 0.         0.         0.         0.\n",
      "  0.         0.         0.         0.        ]\n",
      " [0.         0.         0.         0.         0.         0.\n",
      "  0.         0.         0.         0.         0.04117838 0.16813739\n",
      "  0.28960162 0.32790981 0.36833534 0.3689874  0.34978968 0.25961929\n",
      "  0.12760592 0.         0.         0.         0.         0.\n",
      "  0.         0.         0.         0.        ]\n",
      " [0.         0.         0.         0.         0.         0.\n",
      "  0.         0.         0.04431706 0.11961607 0.36545809 0.37314701\n",
      "  0.33153488 0.32790981 0.36833534 0.28877275 0.111988   0.00258328\n",
      "  0.         0.         0.         0.         0.         0.\n",
      "  0.         0.         0.         0.        ]\n",
      " [0.         0.         0.         0.         0.         0.\n",
      "  0.05298497 0.42752138 0.4219755  0.45852825 0.43408872 0.37314701\n",
      "  0.33153488 0.25273681 0.11646967 0.01312603 0.         0.\n",
      "  0.         0.         0.         0.         0.         0.\n",
      "  0.         0.         0.         0.        ]\n",
      " [0.         0.         0.         0.         0.37491383 0.56222061\n",
      "  0.66525569 0.63253163 0.48748768 0.45852825 0.43408872 0.359873\n",
      "  0.17428513 0.01425695 0.         0.         0.         0.\n",
      "  0.         0.         0.         0.         0.         0.\n",
      "  0.         0.         0.         0.        ]\n",
      " [0.         0.         0.         0.         0.92705966 0.82698729\n",
      "  0.74473314 0.63253163 0.4084877  0.24466922 0.22648107 0.02359823\n",
      "  0.         0.         0.         0.         0.         0.\n",
      "  0.         0.         0.         0.         0.         0.\n",
      "  0.         0.         0.         0.        ]\n",
      " [0.         0.         0.         0.         0.         0.\n",
      "  0.         0.         0.         0.         0.         0.\n",
      "  0.         0.         0.         0.         0.         0.\n",
      "  0.         0.         0.         0.         0.         0.\n",
      "  0.         0.         0.         0.        ]\n",
      " [0.         0.         0.         0.         0.         0.\n",
      "  0.         0.         0.         0.         0.         0.\n",
      "  0.         0.         0.         0.         0.         0.\n",
      "  0.         0.         0.         0.         0.         0.\n",
      "  0.         0.         0.         0.        ]\n",
      " [0.         0.         0.         0.         0.         0.\n",
      "  0.         0.         0.         0.         0.         0.\n",
      "  0.         0.         0.         0.         0.         0.\n",
      "  0.         0.         0.         0.         0.         0.\n",
      "  0.         0.         0.         0.        ]]\n"
     ]
    }
   ],
   "source": [
    "print(x_train[0]) ## all values are normalized"
   ]
  },
  {
   "cell_type": "code",
   "execution_count": 10,
   "metadata": {},
   "outputs": [
    {
     "name": "stdout",
     "output_type": "stream",
     "text": [
      "5\n"
     ]
    }
   ],
   "source": [
    "print (y_train[0]) ## checking the labels inside our network"
   ]
  },
  {
   "cell_type": "markdown",
   "metadata": {},
   "source": [
    "#### Resizing image to make it suitable for apply Convolution operation"
   ]
  },
  {
   "cell_type": "code",
   "execution_count": 11,
   "metadata": {},
   "outputs": [
    {
     "name": "stdout",
     "output_type": "stream",
     "text": [
      "Training Samples dimension (60000, 28, 28, 1)\n",
      "Testing Sapmles dimension (10000, 28, 28, 1)\n"
     ]
    }
   ],
   "source": [
    "import numpy as np # pip install numpy \n",
    "IMG_SIZE = 28\n",
    "x_trainr = np.array(x_train).reshape(-1, IMG_SIZE, IMG_SIZE,1) ## increasing one dimension for kernel operation\n",
    "x_testr = np.array(x_test).reshape(-1, IMG_SIZE, IMG_SIZE,1) ## increasing one dimension for kernel operation\n",
    "print (\"Training Samples dimension\",x_trainr.shape)\n",
    "print (\"Testing Sapmles dimension\",x_testr.shape)"
   ]
  },
  {
   "cell_type": "markdown",
   "metadata": {},
   "source": [
    "### Creating a Deep Neural Network"
   ]
  },
  {
   "cell_type": "markdown",
   "metadata": {},
   "source": [
    "#### Training on 60000 samples of MNIST handwritten dataset"
   ]
  },
  {
   "cell_type": "code",
   "execution_count": 12,
   "metadata": {},
   "outputs": [],
   "source": [
    "from tensorflow.keras.models import Sequential\n",
    "from tensorflow.keras.layers import Dense, Dropout, Activation, Flatten, Conv2D, MaxPooling2D"
   ]
  },
  {
   "cell_type": "markdown",
   "metadata": {},
   "source": [
    "#### Creating the Sequential Model"
   ]
  },
  {
   "cell_type": "code",
   "execution_count": 13,
   "metadata": {},
   "outputs": [],
   "source": [
    "## Creating a neural network\n",
    "model = Sequential()\n",
    "\n",
    "### First Convolution Layer 0 1 2 3 (60000,28,28,1) 28-3+1 = 26*26\n",
    "model.add(Conv2D(64, (3,3), input_shape = x_trainr.shape[1:])) ### only for the first convolution layer to mention input layer size\n",
    "model.add(Activation(\"relu\"))## activation function to make it non-linear, <0, remove, >0\n",
    "model.add(MaxPooling2D(pool_size=(2,2)))## MaxPooling single maximum value of 2x2\n",
    "\n",
    "### Second Convolution Layer\n",
    "model.add(Conv2D(64, (3,3)))## Second Convolution Layer\n",
    "model.add(Activation(\"relu\"))## activation function\n",
    "model.add(MaxPooling2D(pool_size=(2,2)))## MaxPooling\n",
    "\n",
    "### Third Convolution Layer\n",
    "model.add(Conv2D(64, (3,3)))## Third Convolution Layer 24*24\n",
    "model.add(Activation(\"relu\"))## activation function\n",
    "model.add(MaxPooling2D(pool_size=(2,2)))## MaxPooling\n",
    "\n",
    "### Fully Connected Layer # 1 20x20 = 400\n",
    "model.add (Flatten()) ### before using fully connected layer, need to be flatten so that 2D to 1D\n",
    "model.add (Dense(64)) \n",
    "model.add(Activation(\"relu\"))\n",
    "\n",
    "### Fully Connected Layer # 2\n",
    "model.add (Dense(32))\n",
    "model.add(Activation(\"relu\"))\n",
    "\n",
    "### Last Fully Connected Layer, output must be equal to number of classes, 10 (0-9)\n",
    "model.add(Dense(10))## this last dense must be equal to 10\n",
    "model.add(Activation('softmax'))###activation function is changed to Softmax (Class probabilities)\n",
    "## binary classification, one neuron in Dense Layer, sigmoid"
   ]
  },
  {
   "cell_type": "code",
   "execution_count": 14,
   "metadata": {},
   "outputs": [
    {
     "name": "stdout",
     "output_type": "stream",
     "text": [
      "Model: \"sequential\"\n",
      "_________________________________________________________________\n",
      " Layer (type)                Output Shape              Param #   \n",
      "=================================================================\n",
      " conv2d (Conv2D)             (None, 26, 26, 64)        640       \n",
      "                                                                 \n",
      " activation (Activation)     (None, 26, 26, 64)        0         \n",
      "                                                                 \n",
      " max_pooling2d (MaxPooling2D  (None, 13, 13, 64)       0         \n",
      " )                                                               \n",
      "                                                                 \n",
      " conv2d_1 (Conv2D)           (None, 11, 11, 64)        36928     \n",
      "                                                                 \n",
      " activation_1 (Activation)   (None, 11, 11, 64)        0         \n",
      "                                                                 \n",
      " max_pooling2d_1 (MaxPooling  (None, 5, 5, 64)         0         \n",
      " 2D)                                                             \n",
      "                                                                 \n",
      " conv2d_2 (Conv2D)           (None, 3, 3, 64)          36928     \n",
      "                                                                 \n",
      " activation_2 (Activation)   (None, 3, 3, 64)          0         \n",
      "                                                                 \n",
      " max_pooling2d_2 (MaxPooling  (None, 1, 1, 64)         0         \n",
      " 2D)                                                             \n",
      "                                                                 \n",
      " flatten (Flatten)           (None, 64)                0         \n",
      "                                                                 \n",
      " dense (Dense)               (None, 64)                4160      \n",
      "                                                                 \n",
      " activation_3 (Activation)   (None, 64)                0         \n",
      "                                                                 \n",
      " dense_1 (Dense)             (None, 32)                2080      \n",
      "                                                                 \n",
      " activation_4 (Activation)   (None, 32)                0         \n",
      "                                                                 \n",
      " dense_2 (Dense)             (None, 10)                330       \n",
      "                                                                 \n",
      " activation_5 (Activation)   (None, 10)                0         \n",
      "                                                                 \n",
      "=================================================================\n",
      "Total params: 81,066\n",
      "Trainable params: 81,066\n",
      "Non-trainable params: 0\n",
      "_________________________________________________________________\n"
     ]
    }
   ],
   "source": [
    "model.summary()"
   ]
  },
  {
   "cell_type": "code",
   "execution_count": 15,
   "metadata": {},
   "outputs": [
    {
     "name": "stdout",
     "output_type": "stream",
     "text": [
      "Total Training Samples =  60000\n"
     ]
    }
   ],
   "source": [
    "print(\"Total Training Samples = \",len(x_trainr))"
   ]
  },
  {
   "cell_type": "code",
   "execution_count": 16,
   "metadata": {},
   "outputs": [],
   "source": [
    "model.compile(loss =\"sparse_categorical_crossentropy\", optimizer =\"adam\", metrics=['accuracy'])"
   ]
  },
  {
   "cell_type": "code",
   "execution_count": 17,
   "metadata": {},
   "outputs": [
    {
     "name": "stdout",
     "output_type": "stream",
     "text": [
      "Epoch 1/5\n",
      "1313/1313 [==============================] - 63s 47ms/step - loss: 0.3285 - accuracy: 0.8961 - val_loss: 0.1437 - val_accuracy: 0.9551\n",
      "Epoch 2/5\n",
      "1313/1313 [==============================] - 54s 41ms/step - loss: 0.1079 - accuracy: 0.9660 - val_loss: 0.1073 - val_accuracy: 0.9679\n",
      "Epoch 3/5\n",
      "1313/1313 [==============================] - 59s 45ms/step - loss: 0.0748 - accuracy: 0.9770 - val_loss: 0.0761 - val_accuracy: 0.9772\n",
      "Epoch 4/5\n",
      "1313/1313 [==============================] - 68s 52ms/step - loss: 0.0597 - accuracy: 0.9819 - val_loss: 0.0735 - val_accuracy: 0.9783\n",
      "Epoch 5/5\n",
      "1313/1313 [==============================] - 71s 54ms/step - loss: 0.0488 - accuracy: 0.9843 - val_loss: 0.0762 - val_accuracy: 0.9761\n"
     ]
    },
    {
     "data": {
      "text/plain": [
       "<keras.callbacks.History at 0x24d3d5da2e0>"
      ]
     },
     "execution_count": 17,
     "metadata": {},
     "output_type": "execute_result"
    }
   ],
   "source": [
    "model.fit (x_trainr,y_train,epochs=5, validation_split = 0.3) ## Training the model "
   ]
  },
  {
   "cell_type": "code",
   "execution_count": 18,
   "metadata": {},
   "outputs": [
    {
     "name": "stdout",
     "output_type": "stream",
     "text": [
      "313/313 [==============================] - 5s 14ms/step - loss: 0.0702 - accuracy: 0.9793\n",
      "Test Loss on 10,000 test samples 0.07024809718132019\n",
      "Validation Accuracy on 10,000 test samples 0.9793000221252441\n"
     ]
    }
   ],
   "source": [
    "### Evaluating on testing data set MNIT\n",
    "test_loss, test_acc = model.evaluate(x_testr, y_test)\n",
    "print (\"Test Loss on 10,000 test samples\",test_loss)\n",
    "print (\"Validation Accuracy on 10,000 test samples\",test_acc)"
   ]
  },
  {
   "cell_type": "code",
   "execution_count": 19,
   "metadata": {},
   "outputs": [],
   "source": [
    "# Using simple model\n",
    "predictions = model.predict([x_testr]) "
   ]
  },
  {
   "cell_type": "code",
   "execution_count": 20,
   "metadata": {},
   "outputs": [
    {
     "name": "stdout",
     "output_type": "stream",
     "text": [
      "[[3.5818275e-07 2.3024501e-07 3.2067803e-06 ... 9.9999201e-01\n",
      "  1.1364204e-08 1.5730415e-06]\n",
      " [3.7298021e-06 2.8169185e-05 9.9989569e-01 ... 3.8782680e-05\n",
      "  1.0022799e-05 2.6560838e-06]\n",
      " [8.8646575e-06 9.9970239e-01 8.4607573e-06 ... 2.1281216e-05\n",
      "  2.0743489e-06 4.8542411e-06]\n",
      " ...\n",
      " [2.7038138e-10 1.1244628e-07 1.4469381e-10 ... 3.0421695e-08\n",
      "  9.2940375e-08 4.2417480e-07]\n",
      " [5.2992812e-07 7.3024653e-10 9.1173326e-11 ... 2.3622235e-10\n",
      "  5.4631200e-05 8.7662318e-07]\n",
      " [1.0762632e-05 2.7905239e-08 4.5831237e-07 ... 7.1828786e-08\n",
      "  8.5370203e-07 1.5782048e-06]]\n"
     ]
    }
   ],
   "source": [
    "print(predictions) ## these predictions are based on one hot encoding so these are only arrays, containing softmax prediction"
   ]
  },
  {
   "cell_type": "code",
   "execution_count": 21,
   "metadata": {},
   "outputs": [
    {
     "name": "stdout",
     "output_type": "stream",
     "text": [
      "2\n"
     ]
    }
   ],
   "source": [
    "#for converting the predictions from one hot encoding, we need to use numpy\n",
    "print(np.argmax(predictions[1])) ### argmax will return the maximum value index and find the value of it"
   ]
  },
  {
   "cell_type": "code",
   "execution_count": 22,
   "metadata": {},
   "outputs": [
    {
     "data": {
      "text/plain": [
       "<matplotlib.image.AxesImage at 0x24d0726d130>"
      ]
     },
     "execution_count": 22,
     "metadata": {},
     "output_type": "execute_result"
    },
    {
     "data": {
      "image/png": "[encoded data removed]",
      "text/plain": [
       "<Figure size 432x288 with 1 Axes>"
      ]
     },
     "metadata": {
      "needs_background": "light"
     },
     "output_type": "display_data"
    }
   ],
   "source": [
    "### Checking wheather the answer is true or not\n",
    "plt.imshow(x_test[0])"
   ]
  },
  {
   "cell_type": "code",
   "execution_count": 23,
   "metadata": {},
   "outputs": [
    {
     "name": "stdout",
     "output_type": "stream",
     "text": [
      "8\n"
     ]
    }
   ],
   "source": [
    "#for converting the predictions from one hot encoding, we need to use numpy\n",
    "print(np.argmax(predictions[128])) ### argmax will return the maximum value index and find the value of it"
   ]
  },
  {
   "cell_type": "code",
   "execution_count": 24,
   "metadata": {},
   "outputs": [
    {
     "data": {
      "text/plain": [
       "<matplotlib.image.AxesImage at 0x24d3d9fa280>"
      ]
     },
     "execution_count": 24,
     "metadata": {},
     "output_type": "execute_result"
    },
    {
     "data": {
      "image/png": "[encoded data removed]",
      "text/plain": [
       "<Figure size 432x288 with 1 Axes>"
      ]
     },
     "metadata": {
      "needs_background": "light"
     },
     "output_type": "display_data"
    }
   ],
   "source": [
    "### Checking wheather the answer is true or not\n",
    "plt.imshow(x_test[128])"
   ]
  },
  {
   "cell_type": "markdown",
   "metadata": {},
   "source": [
    "#### Detecting the handwritten digits manually using computer Vision"
   ]
  },
  {
   "cell_type": "code",
   "execution_count": 25,
   "metadata": {},
   "outputs": [],
   "source": [
    "import cv2 ## pip install opencv-python"
   ]
  },
  {
   "cell_type": "code",
   "execution_count": 26,
   "metadata": {},
   "outputs": [],
   "source": [
    "img = cv2.imread('six.jpeg')"
   ]
  },
  {
   "cell_type": "code",
   "execution_count": 27,
   "metadata": {},
   "outputs": [
    {
     "data": {
      "text/plain": [
       "<matplotlib.image.AxesImage at 0x24d3d5b6c70>"
      ]
     },
     "execution_count": 27,
     "metadata": {},
     "output_type": "execute_result"
    },
    {
     "data": {
      "image/png": "[encoded data removed]",
      "text/plain": [
       "<Figure size 432x288 with 1 Axes>"
      ]
     },
     "metadata": {
      "needs_background": "light"
     },
     "output_type": "display_data"
    }
   ],
   "source": [
    "plt.imshow(img)"
   ]
  },
  {
   "cell_type": "code",
   "execution_count": 28,
   "metadata": {},
   "outputs": [
    {
     "data": {
      "text/plain": [
       "(298, 172, 3)"
      ]
     },
     "execution_count": 28,
     "metadata": {},
     "output_type": "execute_result"
    }
   ],
   "source": [
    "img.shape"
   ]
  },
  {
   "cell_type": "code",
   "execution_count": 29,
   "metadata": {},
   "outputs": [],
   "source": [
    "gray = cv2.cvtColor(img, cv2.COLOR_BGR2GRAY)"
   ]
  },
  {
   "cell_type": "code",
   "execution_count": 30,
   "metadata": {},
   "outputs": [
    {
     "data": {
      "text/plain": [
       "(298, 172)"
      ]
     },
     "execution_count": 30,
     "metadata": {},
     "output_type": "execute_result"
    }
   ],
   "source": [
    "gray.shape"
   ]
  },
  {
   "cell_type": "code",
   "execution_count": 31,
   "metadata": {},
   "outputs": [],
   "source": [
    "resized = cv2.resize(gray, (28,28),interpolation = cv2.INTER_AREA)"
   ]
  },
  {
   "cell_type": "code",
   "execution_count": 32,
   "metadata": {},
   "outputs": [
    {
     "data": {
      "text/plain": [
       "(28, 28)"
      ]
     },
     "execution_count": 32,
     "metadata": {},
     "output_type": "execute_result"
    }
   ],
   "source": [
    "resized.shape"
   ]
  },
  {
   "cell_type": "code",
   "execution_count": 33,
   "metadata": {},
   "outputs": [],
   "source": [
    "newimg = tf.keras.utils.normalize (resized, axis = 1) ## 0 to 1 scaling"
   ]
  },
  {
   "cell_type": "code",
   "execution_count": 34,
   "metadata": {},
   "outputs": [],
   "source": [
    "newimg = np.array(newimg).reshape(-1, IMG_SIZE, IMG_SIZE,1) # kernel operation of convolution layer"
   ]
  },
  {
   "cell_type": "code",
   "execution_count": 35,
   "metadata": {},
   "outputs": [
    {
     "data": {
      "text/plain": [
       "(1, 28, 28, 1)"
      ]
     },
     "execution_count": 35,
     "metadata": {},
     "output_type": "execute_result"
    }
   ],
   "source": [
    "newimg.shape"
   ]
  },
  {
   "cell_type": "code",
   "execution_count": 36,
   "metadata": {},
   "outputs": [],
   "source": [
    "predictions = model.predict(newimg)"
   ]
  },
  {
   "cell_type": "code",
   "execution_count": 37,
   "metadata": {},
   "outputs": [
    {
     "name": "stdout",
     "output_type": "stream",
     "text": [
      "6\n"
     ]
    }
   ],
   "source": [
    "print(np.argmax(predictions))"
   ]
  },
  {
   "cell_type": "code",
   "execution_count": null,
   "metadata": {},
   "outputs": [],
   "source": []
  }
 ],
 "metadata": {
  "colab": {
   "name": "Untitled5.ipynb",
   "provenance": [],
   "toc_visible": true
  },
  "kernelspec": {
   "display_name": "Python 3",
   "language": "python",
   "name": "python3"
  },
  "language_info": {
   "codemirror_mode": {
    "name": "ipython",
    "version": 3
   },
   "file_extension": ".py",
   "mimetype": "text/x-python",
   "name": "python",
   "nbconvert_exporter": "python",
   "pygments_lexer": "ipython3",
   "version": "3.8.8"
  }
 },
 "nbformat": 4,
 "nbformat_minor": 1
}
